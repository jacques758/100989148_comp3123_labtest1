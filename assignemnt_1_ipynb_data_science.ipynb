{
  "nbformat": 4,
  "nbformat_minor": 0,
  "metadata": {
    "colab": {
      "provenance": [],
      "authorship_tag": "ABX9TyMFYOC+dHhm0VaZ/2RqDq6I",
      "include_colab_link": true
    },
    "kernelspec": {
      "name": "python3",
      "display_name": "Python 3"
    },
    "language_info": {
      "name": "python"
    }
  },
  "cells": [
    {
      "cell_type": "markdown",
      "metadata": {
        "id": "view-in-github",
        "colab_type": "text"
      },
      "source": [
        "<a href=\"https://colab.research.google.com/github/jacques758/100989148_comp3123_labtest1/blob/main/assignemnt_1_ipynb_data_science.ipynb\" target=\"_parent\"><img src=\"https://colab.research.google.com/assets/colab-badge.svg\" alt=\"Open In Colab\"/></a>"
      ]
    },
    {
      "cell_type": "code",
      "execution_count": null,
      "metadata": {
        "id": "U3FmtdAOTYw2"
      },
      "outputs": [],
      "source": [
        "\n",
        "import numpy as np\n",
        "import matplotlib.pyplot as plt\n",
        "import pandas as pd"
      ]
    },
    {
      "cell_type": "code",
      "source": [
        " #1 -Import the biostats.csv file, and place it in an appropriate dataset\n",
        "df = pd.read_csv('biostats1 (1).csv')"
      ],
      "metadata": {
        "id": "WBd0BHLYZjF-"
      },
      "execution_count": null,
      "outputs": []
    },
    {
      "cell_type": "code",
      "source": [
        "#2- Fetch the Age column of the dataset as an array, and use a variable to hold it.\n",
        "age_column = df['Age'].to_numpy()"
      ],
      "metadata": {
        "id": "eFtGHy0yayRc"
      },
      "execution_count": null,
      "outputs": []
    },
    {
      "cell_type": "code",
      "source": [
        "# 3- Print the content of the Age column.\n",
        "print(\"Age Column Content:\", age_column)\n"
      ],
      "metadata": {
        "colab": {
          "base_uri": "https://localhost:8080/"
        },
        "id": "ihzLd_dNayC7",
        "outputId": "0d5384c9-5a44-4e66-b892-39658fe8496b"
      },
      "execution_count": null,
      "outputs": [
        {
          "output_type": "stream",
          "name": "stdout",
          "text": [
            "Age Column Content: [41 42 32 39 30 33 26 30 53 32 47 34 23 36 38 31 29 28]\n"
          ]
        }
      ]
    },
    {
      "cell_type": "code",
      "source": [
        "# 4 - Calculate the average, standard deviation, minimum and maximum of the array, and print the result.\n",
        "age_mean = np.mean(age_column)\n",
        "age_std = np.std(age_column)\n",
        "age_min = np.min(age_column)\n",
        "age_max = np.max(age_column)\n",
        "\n",
        "print(f\"Mean: {age_mean}\")\n",
        "print(f\"Standard Deviation: {age_std}\")\n",
        "print(f\"Minimum: {age_min}\")\n",
        "print(f\"Maximum: {age_max}\")"
      ],
      "metadata": {
        "colab": {
          "base_uri": "https://localhost:8080/"
        },
        "id": "-8hnXVYtaxlM",
        "outputId": "e3358bc4-1f03-47fb-9f54-b37a4b41e297"
      },
      "execution_count": null,
      "outputs": [
        {
          "output_type": "stream",
          "name": "stdout",
          "text": [
            "Mean: 34.666666666666664\n",
            "Standard Deviation: 7.363574011458175\n",
            "Minimum: 23\n",
            "Maximum: 53\n"
          ]
        }
      ]
    },
    {
      "cell_type": "code",
      "source": [
        "# 5- Find the 30th percentile, median, and 70th percentile of the Age column.\n",
        "age_30th_percentile = np.percentile(age_column, 30)\n",
        "age_median = np.median(age_column)\n",
        "age_70th_percentile = np.percentile(age_column, 70)\n",
        "\n",
        "print(f\"30th Percentile: {age_30th_percentile}\")\n",
        "print(f\"Median: {age_median}\")\n",
        "print(f\"70th Percentile: {age_70th_percentile}\")\n"
      ],
      "metadata": {
        "colab": {
          "base_uri": "https://localhost:8080/"
        },
        "id": "ga8eACD5bSZM",
        "outputId": "f182441b-6c7c-4b77-bc3f-67f34e0fb5ab"
      },
      "execution_count": null,
      "outputs": [
        {
          "output_type": "stream",
          "name": "stdout",
          "text": [
            "30th Percentile: 30.1\n",
            "Median: 32.5\n",
            "70th Percentile: 37.8\n"
          ]
        }
      ]
    },
    {
      "cell_type": "code",
      "source": [
        "# 6 - Using the Matplotlib library, please draw a histogram chart for the Age column. Please, use an appropriate title, X-label, and Y-label. Moreover, include your first name in the title, e.g. Age Distribution – By Laily (\n",
        "plt.hist(age_column, bins=5, edgecolor='black')\n",
        "plt.title('Age Distribution – By Vidjanagni Jacques')\n",
        "plt.xlabel('Age')\n",
        "plt.ylabel('Number')\n",
        "plt.show()"
      ],
      "metadata": {
        "colab": {
          "base_uri": "https://localhost:8080/",
          "height": 472
        },
        "id": "jr8F6LcabSpb",
        "outputId": "0080938d-1a98-47c6-9a7b-701b8fbc38b1"
      },
      "execution_count": null,
      "outputs": [
        {
          "output_type": "display_data",
          "data": {
            "text/plain": [
              "<Figure size 640x480 with 1 Axes>"
            ],
            "image/png": "[encoded data removed]"
          },
          "metadata": {}
        }
      ]
    }
  ]
}